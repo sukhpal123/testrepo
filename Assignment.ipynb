{
  "metadata": {
    "language_info": {
      "codemirror_mode": {
        "name": "python",
        "version": 3
      },
      "file_extension": ".py",
      "mimetype": "text/x-python",
      "name": "python",
      "nbconvert_exporter": "python",
      "pygments_lexer": "ipython3",
      "version": "3.8"
    },
    "kernelspec": {
      "name": "python",
      "display_name": "Pyolite",
      "language": "python"
    }
  },
  "nbformat_minor": 4,
  "nbformat": 4,
  "cells": [
    {
      "cell_type": "markdown",
      "source": "<h1>My Jupyter Notebook on IBM Watson Studio</h1>",
      "metadata": {}
    },
    {
      "cell_type": "markdown",
      "source": "<p><b>My Name is Sukhpaldeep Kaur</b></p>\n<p>I want to become a Data Scientist</p>",
      "metadata": {}
    },
    {
      "cell_type": "markdown",
      "source": "<p><i>I am interested in data science because It has great scope in future also it is related to mathe,atics and I am good at it other than this I am interested to learn or try something new</i></p>",
      "metadata": {}
    },
    {
      "cell_type": "markdown",
      "source": "<h3>Arithmetic Operations</h3>",
      "metadata": {}
    },
    {
      "cell_type": "code",
      "source": "print(10+2)\nprint(10-2)\nprint(10*2)\nprint(10/2)\nprint(10%2)",
      "metadata": {
        "trusted": true
      },
      "execution_count": 1,
      "outputs": [
        {
          "name": "stdout",
          "text": "12\n8\n20\n5.0\n0\n",
          "output_type": "stream"
        }
      ]
    },
    {
      "cell_type": "markdown",
      "source": "<a href=\"https://www.google.com/\">Google</a>\n<table border=\"1\">\n    <tr>\n        <th>Basic Git Commands</th>\n    </tr>\n    <tr>\n        <td>init</td>\n    </tr>\n    <tr>\n        <td>add</td>\n    </tr>\n    <tr>\n        <td>status</td>\n    </tr>\n    <tr>\n        <td>commit</td>\n    </tr>\n</table>\n<ul>\n    <li> IBM Watson Studion </li>\n    <li> IBM Cloud </li>\n</ul>\n<ol>\n    <li> IBM Watson Studion </li>\n    <li> IBM Cloud </li>\n</ol>\n\n<p><s>No Option Available</s></p>",
      "metadata": {}
    }
  ]
}